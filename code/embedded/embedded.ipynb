{
 "cells": [
  {
   "metadata": {},
   "cell_type": "markdown",
   "source": [
    "docker run -it --rm --runtime=nvidia -p 8888:8888 tensorflow/tensorflow:latest-gpu-jupyter\n",
    "\n",
    "https://docs.arduino.cc/tutorials/nano-33-ble-sense-rev2/get-started-with-machine-learning/\n",
    "\n",
    "https://github.com/tensorflow/tflite-micro-arduino-examples\n",
    " "
   ],
   "id": "ee3e5a33535192e6"
  },
  {
   "metadata": {
    "ExecuteTime": {
     "end_time": "2024-06-02T07:20:11.927032Z",
     "start_time": "2024-06-02T07:20:06.872494Z"
    }
   },
   "cell_type": "code",
   "source": [
    "import numpy as np\n",
    "import tensorflow as tf\n"
   ],
   "id": "initial_id",
   "outputs": [],
   "execution_count": 1
  },
  {
   "metadata": {
    "ExecuteTime": {
     "end_time": "2024-06-02T07:20:11.935548Z",
     "start_time": "2024-06-02T07:20:11.928061Z"
    }
   },
   "cell_type": "code",
   "source": "print(tf.config.list_physical_devices('GPU'))",
   "id": "123243766a36d68d",
   "outputs": [
    {
     "name": "stdout",
     "output_type": "stream",
     "text": [
      "[]\n"
     ]
    }
   ],
   "execution_count": 2
  },
  {
   "metadata": {
    "ExecuteTime": {
     "end_time": "2024-06-02T07:20:12.364055Z",
     "start_time": "2024-06-02T07:20:11.936556Z"
    }
   },
   "cell_type": "code",
   "source": [
    "mnist = tf.keras.datasets.mnist\n",
    "\n",
    "(x_train, y_train), (x_test, y_test) = mnist.load_data()\n",
    "x_train, x_test = x_train / 255.0, x_test / 255.0\n"
   ],
   "id": "248b623d954a7756",
   "outputs": [],
   "execution_count": 3
  },
  {
   "metadata": {
    "ExecuteTime": {
     "end_time": "2024-06-02T07:20:12.477408Z",
     "start_time": "2024-06-02T07:20:12.365044Z"
    }
   },
   "cell_type": "code",
   "source": [
    "model = tf.keras.models.Sequential([\n",
    "    tf.keras.layers.Flatten(input_shape=(28, 28)),\n",
    "    tf.keras.layers.Dense(128, activation='relu'),\n",
    "    tf.keras.layers.Dropout(0.2),\n",
    "    tf.keras.layers.Dense(10)\n",
    "])"
   ],
   "id": "9344ea8fffaec40a",
   "outputs": [
    {
     "name": "stderr",
     "output_type": "stream",
     "text": [
      "C:\\Users\\Fabi\\source\\repos\\spicenet-embedded\\venv\\Lib\\site-packages\\keras\\src\\layers\\reshaping\\flatten.py:37: UserWarning: Do not pass an `input_shape`/`input_dim` argument to a layer. When using Sequential models, prefer using an `Input(shape)` object as the first layer in the model instead.\n",
      "  super().__init__(**kwargs)\n"
     ]
    }
   ],
   "execution_count": 4
  },
  {
   "metadata": {
    "ExecuteTime": {
     "end_time": "2024-06-02T07:20:12.524570Z",
     "start_time": "2024-06-02T07:20:12.479420Z"
    }
   },
   "cell_type": "code",
   "source": [
    "predictions = model(x_train[:1]).numpy()\n",
    "predictions"
   ],
   "id": "1dcc49ef1a7184",
   "outputs": [
    {
     "data": {
      "text/plain": [
       "array([[-0.35325986,  0.10069375,  0.528976  ,  0.11677352, -0.43100393,\n",
       "        -0.58732694, -0.6484592 , -0.52152956,  0.05103146, -0.02161447]],\n",
       "      dtype=float32)"
      ]
     },
     "execution_count": 5,
     "metadata": {},
     "output_type": "execute_result"
    }
   ],
   "execution_count": 5
  },
  {
   "metadata": {
    "ExecuteTime": {
     "end_time": "2024-06-02T07:20:12.542453Z",
     "start_time": "2024-06-02T07:20:12.525584Z"
    }
   },
   "cell_type": "code",
   "source": "tf.nn.softmax(predictions).numpy()\n",
   "id": "39df707b9c1fa349",
   "outputs": [
    {
     "data": {
      "text/plain": [
       "array([[0.07819594, 0.12312147, 0.18894456, 0.12511724, 0.07234698,\n",
       "        0.06187714, 0.05820775, 0.06608541, 0.11715632, 0.10894716]],\n",
       "      dtype=float32)"
      ]
     },
     "execution_count": 6,
     "metadata": {},
     "output_type": "execute_result"
    }
   ],
   "execution_count": 6
  },
  {
   "metadata": {
    "ExecuteTime": {
     "end_time": "2024-06-02T07:20:12.569058Z",
     "start_time": "2024-06-02T07:20:12.543463Z"
    }
   },
   "cell_type": "code",
   "source": [
    "loss_fn = tf.keras.losses.SparseCategoricalCrossentropy(from_logits=True)\n",
    "loss_fn(y_train[:1], predictions).numpy()"
   ],
   "id": "3cbe50087148a2f",
   "outputs": [
    {
     "data": {
      "text/plain": [
       "2.7826047"
      ]
     },
     "execution_count": 7,
     "metadata": {},
     "output_type": "execute_result"
    }
   ],
   "execution_count": 7
  },
  {
   "metadata": {
    "ExecuteTime": {
     "end_time": "2024-06-02T07:20:12.587951Z",
     "start_time": "2024-06-02T07:20:12.571067Z"
    }
   },
   "cell_type": "code",
   "source": [
    "model.compile(optimizer='adam',\n",
    "              loss=loss_fn,\n",
    "              metrics=['accuracy'])"
   ],
   "id": "7ab8dbe2c4252b69",
   "outputs": [],
   "execution_count": 8
  },
  {
   "metadata": {
    "ExecuteTime": {
     "end_time": "2024-06-02T07:21:16.088043Z",
     "start_time": "2024-06-02T07:20:12.589952Z"
    }
   },
   "cell_type": "code",
   "source": "model.fit(x_train, y_train, epochs=20)",
   "id": "f924684076fa23d7",
   "outputs": [
    {
     "name": "stdout",
     "output_type": "stream",
     "text": [
      "Epoch 1/20\n",
      "\u001B[1m1875/1875\u001B[0m \u001B[32m━━━━━━━━━━━━━━━━━━━━\u001B[0m\u001B[37m\u001B[0m \u001B[1m4s\u001B[0m 2ms/step - accuracy: 0.8645 - loss: 0.4688\n",
      "Epoch 2/20\n",
      "\u001B[1m1875/1875\u001B[0m \u001B[32m━━━━━━━━━━━━━━━━━━━━\u001B[0m\u001B[37m\u001B[0m \u001B[1m3s\u001B[0m 2ms/step - accuracy: 0.9538 - loss: 0.1503\n",
      "Epoch 3/20\n",
      "\u001B[1m1875/1875\u001B[0m \u001B[32m━━━━━━━━━━━━━━━━━━━━\u001B[0m\u001B[37m\u001B[0m \u001B[1m3s\u001B[0m 2ms/step - accuracy: 0.9653 - loss: 0.1111\n",
      "Epoch 4/20\n",
      "\u001B[1m1875/1875\u001B[0m \u001B[32m━━━━━━━━━━━━━━━━━━━━\u001B[0m\u001B[37m\u001B[0m \u001B[1m3s\u001B[0m 2ms/step - accuracy: 0.9740 - loss: 0.0850\n",
      "Epoch 5/20\n",
      "\u001B[1m1875/1875\u001B[0m \u001B[32m━━━━━━━━━━━━━━━━━━━━\u001B[0m\u001B[37m\u001B[0m \u001B[1m3s\u001B[0m 2ms/step - accuracy: 0.9772 - loss: 0.0731\n",
      "Epoch 6/20\n",
      "\u001B[1m1875/1875\u001B[0m \u001B[32m━━━━━━━━━━━━━━━━━━━━\u001B[0m\u001B[37m\u001B[0m \u001B[1m3s\u001B[0m 2ms/step - accuracy: 0.9790 - loss: 0.0651\n",
      "Epoch 7/20\n",
      "\u001B[1m1875/1875\u001B[0m \u001B[32m━━━━━━━━━━━━━━━━━━━━\u001B[0m\u001B[37m\u001B[0m \u001B[1m3s\u001B[0m 2ms/step - accuracy: 0.9819 - loss: 0.0569\n",
      "Epoch 8/20\n",
      "\u001B[1m1875/1875\u001B[0m \u001B[32m━━━━━━━━━━━━━━━━━━━━\u001B[0m\u001B[37m\u001B[0m \u001B[1m3s\u001B[0m 2ms/step - accuracy: 0.9832 - loss: 0.0523\n",
      "Epoch 9/20\n",
      "\u001B[1m1875/1875\u001B[0m \u001B[32m━━━━━━━━━━━━━━━━━━━━\u001B[0m\u001B[37m\u001B[0m \u001B[1m3s\u001B[0m 2ms/step - accuracy: 0.9836 - loss: 0.0478\n",
      "Epoch 10/20\n",
      "\u001B[1m1875/1875\u001B[0m \u001B[32m━━━━━━━━━━━━━━━━━━━━\u001B[0m\u001B[37m\u001B[0m \u001B[1m3s\u001B[0m 2ms/step - accuracy: 0.9856 - loss: 0.0434\n",
      "Epoch 11/20\n",
      "\u001B[1m1875/1875\u001B[0m \u001B[32m━━━━━━━━━━━━━━━━━━━━\u001B[0m\u001B[37m\u001B[0m \u001B[1m3s\u001B[0m 2ms/step - accuracy: 0.9870 - loss: 0.0377\n",
      "Epoch 12/20\n",
      "\u001B[1m1875/1875\u001B[0m \u001B[32m━━━━━━━━━━━━━━━━━━━━\u001B[0m\u001B[37m\u001B[0m \u001B[1m3s\u001B[0m 2ms/step - accuracy: 0.9880 - loss: 0.0341\n",
      "Epoch 13/20\n",
      "\u001B[1m1875/1875\u001B[0m \u001B[32m━━━━━━━━━━━━━━━━━━━━\u001B[0m\u001B[37m\u001B[0m \u001B[1m3s\u001B[0m 2ms/step - accuracy: 0.9877 - loss: 0.0352\n",
      "Epoch 14/20\n",
      "\u001B[1m1875/1875\u001B[0m \u001B[32m━━━━━━━━━━━━━━━━━━━━\u001B[0m\u001B[37m\u001B[0m \u001B[1m3s\u001B[0m 2ms/step - accuracy: 0.9889 - loss: 0.0321\n",
      "Epoch 15/20\n",
      "\u001B[1m1875/1875\u001B[0m \u001B[32m━━━━━━━━━━━━━━━━━━━━\u001B[0m\u001B[37m\u001B[0m \u001B[1m3s\u001B[0m 2ms/step - accuracy: 0.9904 - loss: 0.0290\n",
      "Epoch 16/20\n",
      "\u001B[1m1875/1875\u001B[0m \u001B[32m━━━━━━━━━━━━━━━━━━━━\u001B[0m\u001B[37m\u001B[0m \u001B[1m3s\u001B[0m 2ms/step - accuracy: 0.9906 - loss: 0.0270\n",
      "Epoch 17/20\n",
      "\u001B[1m1875/1875\u001B[0m \u001B[32m━━━━━━━━━━━━━━━━━━━━\u001B[0m\u001B[37m\u001B[0m \u001B[1m3s\u001B[0m 2ms/step - accuracy: 0.9904 - loss: 0.0290\n",
      "Epoch 18/20\n",
      "\u001B[1m1875/1875\u001B[0m \u001B[32m━━━━━━━━━━━━━━━━━━━━\u001B[0m\u001B[37m\u001B[0m \u001B[1m3s\u001B[0m 2ms/step - accuracy: 0.9914 - loss: 0.0249\n",
      "Epoch 19/20\n",
      "\u001B[1m1875/1875\u001B[0m \u001B[32m━━━━━━━━━━━━━━━━━━━━\u001B[0m\u001B[37m\u001B[0m \u001B[1m3s\u001B[0m 2ms/step - accuracy: 0.9908 - loss: 0.0268\n",
      "Epoch 20/20\n",
      "\u001B[1m1875/1875\u001B[0m \u001B[32m━━━━━━━━━━━━━━━━━━━━\u001B[0m\u001B[37m\u001B[0m \u001B[1m3s\u001B[0m 2ms/step - accuracy: 0.9909 - loss: 0.0263\n"
     ]
    },
    {
     "data": {
      "text/plain": [
       "<keras.src.callbacks.history.History at 0x196b63cd550>"
      ]
     },
     "execution_count": 9,
     "metadata": {},
     "output_type": "execute_result"
    }
   ],
   "execution_count": 9
  },
  {
   "metadata": {
    "ExecuteTime": {
     "end_time": "2024-06-02T07:21:16.566132Z",
     "start_time": "2024-06-02T07:21:16.089038Z"
    }
   },
   "cell_type": "code",
   "source": "model.evaluate(x_test,  y_test, verbose=2)",
   "id": "d0210a1423c33114",
   "outputs": [
    {
     "name": "stdout",
     "output_type": "stream",
     "text": [
      "313/313 - 0s - 1ms/step - accuracy: 0.9809 - loss: 0.0790\n"
     ]
    },
    {
     "data": {
      "text/plain": [
       "[0.0789642184972763, 0.98089998960495]"
      ]
     },
     "execution_count": 10,
     "metadata": {},
     "output_type": "execute_result"
    }
   ],
   "execution_count": 10
  }
 ],
 "metadata": {
  "kernelspec": {
   "display_name": "Python 3",
   "language": "python",
   "name": "python3"
  },
  "language_info": {
   "codemirror_mode": {
    "name": "ipython",
    "version": 2
   },
   "file_extension": ".py",
   "mimetype": "text/x-python",
   "name": "python",
   "nbconvert_exporter": "python",
   "pygments_lexer": "ipython2",
   "version": "2.7.6"
  }
 },
 "nbformat": 4,
 "nbformat_minor": 5
}
